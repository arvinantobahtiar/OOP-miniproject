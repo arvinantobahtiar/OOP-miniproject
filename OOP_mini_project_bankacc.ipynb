{
  "nbformat": 4,
  "nbformat_minor": 0,
  "metadata": {
    "colab": {
      "provenance": [],
      "authorship_tag": "ABX9TyNs+sZrWIFRaKvQMlgMabst",
      "include_colab_link": true
    },
    "kernelspec": {
      "name": "python3",
      "display_name": "Python 3"
    },
    "language_info": {
      "name": "python"
    }
  },
  "cells": [
    {
      "cell_type": "markdown",
      "metadata": {
        "id": "view-in-github",
        "colab_type": "text"
      },
      "source": [
        "<a href=\"https://colab.research.google.com/github/arvinantobahtiar/OOP-miniproject/blob/main/OOP_mini_project_bankacc.ipynb\" target=\"_parent\"><img src=\"https://colab.research.google.com/assets/colab-badge.svg\" alt=\"Open In Colab\"/></a>"
      ]
    },
    {
      "cell_type": "code",
      "execution_count": 1,
      "metadata": {
        "colab": {
          "base_uri": "https://localhost:8080/"
        },
        "id": "zJubn1cmIlF2",
        "outputId": "ea0ef0a8-54ac-4a9c-b009-89e8ae327bcc"
      },
      "outputs": [
        {
          "output_type": "stream",
          "name": "stdout",
          "text": [
            "\n",
            "=========== Account Information ===========\n",
            "Account Number: 66780079\n",
            "Account Holder: Pengky Subekti\n",
            "Balance: 2000\n",
            "===========================================\n",
            "\n",
            "*Deposit of 500 successfully made.\n",
            "*Withdrawal of 200 successfully made.\n",
            "*Withdrawal of 1500 successfully made.\n",
            "(!)Insufficient balance. Withdrawal canceled.\n",
            "\n",
            "=========== Account Information ===========\n",
            "Account Number: 66780079\n",
            "Account Holder: Pengky Subekti\n",
            "Balance: 800\n",
            "===========================================\n",
            "\n"
          ]
        }
      ],
      "source": [
        "class BankAccount:\n",
        "    def __init__(self, account_number, account_holder, balance=0):\n",
        "        self.account_number = account_number\n",
        "        self.account_holder = account_holder\n",
        "        self.balance = balance\n",
        "\n",
        "    def deposit(self, amount):\n",
        "        self.balance += amount\n",
        "        print(\"*Deposit of\", amount, \"successfully made.\")\n",
        "\n",
        "    def withdraw(self, amount):\n",
        "        if self.balance >= amount:\n",
        "            self.balance -= amount\n",
        "            print(\"*Withdrawal of\", amount, \"successfully made.\")\n",
        "        else:\n",
        "            print(\"(!)Insufficient balance. Withdrawal canceled.\")\n",
        "\n",
        "    def display_info(self):\n",
        "        print(\"\\n=========== Account Information ===========\")\n",
        "        print(\"Account Number:\", self.account_number)\n",
        "        print(\"Account Holder:\", self.account_holder)\n",
        "        print(\"Balance:\", self.balance)\n",
        "        print(\"===========================================\\n\")\n",
        "\n",
        "\n",
        "bank_account = BankAccount(\"66780079\", \"Pengky Subekti\", 2000)\n",
        "\n",
        "\n",
        "bank_account.display_info()\n",
        "\n",
        "bank_account.deposit(500)\n",
        "bank_account.withdraw(200)\n",
        "bank_account.withdraw(1500)\n",
        "bank_account.withdraw(1000)\n",
        "\n",
        "bank_account.display_info()"
      ]
    }
  ]
}